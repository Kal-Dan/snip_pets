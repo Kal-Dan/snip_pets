{
 "cells": [
  {
   "cell_type": "markdown",
   "metadata": {},
   "source": [
    "# PLSQL Data Lineage tool"
   ]
  },
  {
   "cell_type": "markdown",
   "metadata": {},
   "source": [
    "With this simple code, you can visualize your PLSQL code to help you understand the flow of data in your project.\n",
    "#### what you need:\n",
    "\n",
    "libraries:\n",
    "- graphviz (conda install -c anaconda graphviz)<br>\n",
    "- pydot (conda install -c anaconda pydot)<br>\n",
    "<br>\n",
    "- your plsql code in 'plsql.txt' file in your root directory. <br>\n",
    "- (optinal) List of tables used in PL/SQL 'tables.txt' - if you don't name the schema in your code explicitly <br>\n",
    "\n",
    "Don't forget to first define the functions and lists in the code below."
   ]
  },
  {
   "cell_type": "code",
   "execution_count": 1,
   "metadata": {
    "ExecuteTime": {
     "end_time": "2021-06-01T13:13:46.278865Z",
     "start_time": "2021-06-01T13:13:45.928835Z"
    }
   },
   "outputs": [
    {
     "ename": "ModuleNotFoundError",
     "evalue": "No module named 'pydot'",
     "output_type": "error",
     "traceback": [
      "\u001b[1;31m---------------------------------------------------------------------------\u001b[0m",
      "\u001b[1;31mModuleNotFoundError\u001b[0m                       Traceback (most recent call last)",
      "\u001b[1;32m<ipython-input-1-c6c4b86ade85>\u001b[0m in \u001b[0;36m<module>\u001b[1;34m\u001b[0m\n\u001b[0;32m      1\u001b[0m \u001b[1;32mfrom\u001b[0m \u001b[0mIPython\u001b[0m\u001b[1;33m.\u001b[0m\u001b[0mdisplay\u001b[0m \u001b[1;32mimport\u001b[0m \u001b[0mImage\u001b[0m\u001b[1;33m,\u001b[0m \u001b[0mdisplay\u001b[0m\u001b[1;33m\u001b[0m\u001b[1;33m\u001b[0m\u001b[0m\n\u001b[1;32m----> 2\u001b[1;33m \u001b[1;32mimport\u001b[0m \u001b[0mpydot\u001b[0m\u001b[1;33m\u001b[0m\u001b[1;33m\u001b[0m\u001b[0m\n\u001b[0m\u001b[0;32m      3\u001b[0m \u001b[1;32mimport\u001b[0m \u001b[0mos\u001b[0m\u001b[1;33m\u001b[0m\u001b[1;33m\u001b[0m\u001b[0m\n\u001b[0;32m      4\u001b[0m \u001b[1;33m\u001b[0m\u001b[0m\n\u001b[0;32m      5\u001b[0m \u001b[1;32mfrom\u001b[0m \u001b[0mtqdm\u001b[0m\u001b[1;33m.\u001b[0m\u001b[0mnotebook\u001b[0m \u001b[1;32mimport\u001b[0m \u001b[0mtqdm\u001b[0m\u001b[1;33m\u001b[0m\u001b[1;33m\u001b[0m\u001b[0m\n",
      "\u001b[1;31mModuleNotFoundError\u001b[0m: No module named 'pydot'"
     ]
    }
   ],
   "source": [
    "from IPython.display import Image, display\n",
    "import pydot\n",
    "import os\n",
    "\n",
    "from tqdm.notebook import tqdm\n",
    "import time"
   ]
  },
  {
   "cell_type": "code",
   "execution_count": null,
   "metadata": {
    "ExecuteTime": {
     "end_time": "2021-03-18T14:50:10.561541Z",
     "start_time": "2021-03-18T14:50:10.556539Z"
    }
   },
   "outputs": [],
   "source": [
    "f = open('plsql.txt', encoding=\"utf8\") #open your plsql code\n",
    "line = f.readline() # read the first line"
   ]
  },
  {
   "cell_type": "code",
   "execution_count": null,
   "metadata": {
    "ExecuteTime": {
     "end_time": "2021-03-19T16:37:43.354316Z",
     "start_time": "2021-03-19T16:37:43.349313Z"
    }
   },
   "outputs": [],
   "source": [
    "G = pydot.Dot(graph_type=\"digraph\")\n",
    "G.set_graph_defaults(compound='true',\n",
    "                                              #splines='ortho',\n",
    "                                              rankdir='LR')\n",
    "# see https://graphviz.org/doc/info/attrs.html#d:shape"
   ]
  },
  {
   "cell_type": "code",
   "execution_count": null,
   "metadata": {
    "ExecuteTime": {
     "end_time": "2021-03-18T14:50:13.195603Z",
     "start_time": "2021-03-18T14:50:12.877374Z"
    },
    "scrolled": true
   },
   "outputs": [],
   "source": [
    "child_tab = []\n",
    "\n",
    "while line:\n",
    "        # strip trailing spaces and newline\n",
    "        line1 = line.rstrip()  \n",
    "        line = line1.upper()\n",
    "        list_tab = [] \n",
    "        \n",
    "        # process the line\n",
    "        \n",
    "        #0. get rid of execute immediate (truncate or CTAS - we do not support that)\n",
    "        \n",
    "        if line.find('EXECUTE IMMEDIATE') >= 0:\n",
    "            # if found, go to next line\n",
    "            line2 = f.readline()\n",
    "            line1 = line2.rstrip()  \n",
    "            line = line1.upper() \n",
    "            \n",
    "        #1.a get rid of commented code --\n",
    "        if line.find('--') >= 0:\n",
    "            line = line[:line.find('--')]\n",
    "        \n",
    "        #1.b get rid of commented code /*\n",
    "        \n",
    "        if line.find('/*') >= 0:\n",
    "            line_orig = line # find /* on the same line \n",
    "            line = line[:line.find('/*')]\n",
    "                     \n",
    "            list_tab = find_table(line)\n",
    "            if type(list_tab) == list:\n",
    "\n",
    "                if find_beggining(line) == 1:\n",
    "                    #print(line)\n",
    "                    #print(list_tab)\n",
    "                    if len(list_tab)>0:\n",
    "\n",
    "                        child_tab = list_tab[0]\n",
    "                        if child_tab.find('OWNER_DWH') >= 0:\n",
    "                            node = pydot.Node(child_tab, style=\"filled\", fillcolor=\"green\")\n",
    "                        elif child_tab.find('OWNER_INT') >= 0:\n",
    "                            node = pydot.Node(child_tab, style=\"filled\", fillcolor=\"azure\")\n",
    "                        else:\n",
    "                            node = pydot.Node(child_tab, style=\"filled\", fillcolor=\"yellow\")\n",
    "                        G.add_node(node)\n",
    "                else:\n",
    "                    for i in list_tab:\n",
    "                        #print(child_tab)\n",
    "                        if len(child_tab) > 0:\n",
    "                            parent_tab = i\n",
    "                            if parent_tab.find('OWNER_DWH') >= 0:\n",
    "                                node = pydot.Node(parent_tab, style=\"filled\", fillcolor=\"green\")\n",
    "                            elif parent_tab.find('OWNER_INT') >= 0:\n",
    "                                node = pydot.Node(parent_tab, style=\"filled\", fillcolor=\"azure\")\n",
    "                            else:\n",
    "                                node = pydot.Node(parent_tab, style=\"filled\", fillcolor=\"yellow\")\n",
    "\n",
    "                            G.add_node(node)\n",
    "                            #print(parent_tab, child_tab)\n",
    "                            #print(line)\n",
    "                            edge = pydot.Edge(parent_tab,child_tab)\n",
    "                            G.add_edge(edge)\n",
    "    \n",
    "    \n",
    "            while line_orig.find('*/') < 0:\n",
    "                #print(line_orig)\n",
    "                line_orig = f.readline() \n",
    "            # process the code after /*\n",
    "            line1 = line_orig[line_orig.find('*/')+2:]   \n",
    "            line = line1.upper()\n",
    "        #2. handle the begining of the procedure or package\n",
    "        \n",
    "        line_upper = line.upper()\n",
    "        if line_upper.find('CREATE OR REPLACE') >= 0:\n",
    "            #print(line)\n",
    "            line = f.readline() \n",
    "        \n",
    "        # 3. process plsql code\n",
    "        \n",
    "        list_tab = find_table(line)\n",
    "        #print(line)\n",
    "        #print(list_tab)\n",
    "        \n",
    "        if type(list_tab) == list:\n",
    "            \n",
    "            if find_beggining(line) == 1:\n",
    "                #print(line)\n",
    "                #print(list_tab)\n",
    "                if len(list_tab)>0:\n",
    "                    \n",
    "                    child_tab = list_tab[0]\n",
    "                    if child_tab.find('OWNER_DWH') >= 0:\n",
    "                        node = pydot.Node(child_tab, style=\"filled\", fillcolor=\"green\")\n",
    "                    elif child_tab.find('OWNER_INT') >= 0:\n",
    "                        node = pydot.Node(child_tab, style=\"filled\", fillcolor=\"azure\")\n",
    "                    elif child_tab.find('DM_REPORTING') >= 0:\n",
    "                        node = pydot.Node(child_tab, style=\"filled\", fillcolor=\"darkturquoise\")\n",
    "                    else:\n",
    "                        node = pydot.Node(child_tab, style=\"filled\", fillcolor=\"yellow\")\n",
    "                    G.add_node(node)\n",
    "            else:\n",
    "                for i in list_tab:\n",
    "                    #print(child_tab)\n",
    "                    if len(child_tab) > 0:\n",
    "                        parent_tab = i\n",
    "                        if parent_tab.find('OWNER_DWH') >= 0:\n",
    "                            node = pydot.Node(parent_tab, style=\"filled\", fillcolor=\"green\")\n",
    "                        elif parent_tab.find('OWNER_INT') >= 0:\n",
    "                            node = pydot.Node(parent_tab, style=\"filled\", fillcolor=\"azure\")\n",
    "                        elif parent_tab.find('DM_REPORTING') >= 0:\n",
    "                            node = pydot.Node(parent_tab, style=\"filled\", fillcolor=\"darkturquoise\")\n",
    "                        else:\n",
    "                            node = pydot.Node(parent_tab, style=\"filled\", fillcolor=\"yellow\")\n",
    "\n",
    "                        G.add_node(node)\n",
    "                        #print(parent_tab, child_tab)\n",
    "                        #print(line)\n",
    "                        edge = pydot.Edge(parent_tab,child_tab)\n",
    "                        G.add_edge(edge)\n",
    "        # go to next line\n",
    "        line = f.readline() "
   ]
  },
  {
   "cell_type": "code",
   "execution_count": null,
   "metadata": {
    "ExecuteTime": {
     "end_time": "2021-03-18T14:50:14.461610Z",
     "start_time": "2021-03-18T14:50:14.458609Z"
    }
   },
   "outputs": [],
   "source": [
    "f.close()"
   ]
  },
  {
   "cell_type": "code",
   "execution_count": null,
   "metadata": {
    "ExecuteTime": {
     "end_time": "2021-03-18T14:50:16.363473Z",
     "start_time": "2021-03-18T14:50:15.084451Z"
    },
    "scrolled": false
   },
   "outputs": [],
   "source": [
    "im = Image(G.create_png())\n",
    "display(im)"
   ]
  },
  {
   "cell_type": "markdown",
   "metadata": {},
   "source": [
    "list of schemas where to look for tables"
   ]
  },
  {
   "cell_type": "code",
   "execution_count": null,
   "metadata": {
    "ExecuteTime": {
     "end_time": "2021-03-19T16:31:01.972089Z",
     "start_time": "2021-03-19T16:31:01.966085Z"
    }
   },
   "outputs": [],
   "source": [
    "schema = ['AP_SALES.', 'AP_RISK.', 'OWNER_DWH.', 'OWNER_INT.', 'DM_REPORTING.', 'OWNER_STG.', 'STG_OSA', 'DW_WRK', 'AP_MARK', 'AP_COLL'] "
   ]
  },
  {
   "cell_type": "markdown",
   "metadata": {},
   "source": [
    "import list of tables from db catalog to look for (optional)\n",
    "\n",
    "select *\n",
    "  from dba_dependencies t\n",
    " where owner = 'AP_RISK'\n",
    " AND NAME = 'FS_DENNI_REPORT_NEW'\n",
    " AND REFERENCED_TYPE = 'TABLE'\n",
    " ;\n",
    " "
   ]
  },
  {
   "cell_type": "code",
   "execution_count": null,
   "metadata": {
    "ExecuteTime": {
     "end_time": "2021-03-18T14:48:02.151894Z",
     "start_time": "2021-03-18T14:48:02.140904Z"
    }
   },
   "outputs": [],
   "source": [
    "tables = []\n",
    "t = open('tables.txt')\n",
    "line = t.readline()\n",
    "while line:\n",
    "    line = line.rstrip() \n",
    "    tables.append(line.upper())\n",
    "    line = t.readline()\n",
    "t.close()"
   ]
  },
  {
   "cell_type": "markdown",
   "metadata": {},
   "source": [
    "Find table based on defined schema or list of tables"
   ]
  },
  {
   "cell_type": "code",
   "execution_count": null,
   "metadata": {
    "ExecuteTime": {
     "end_time": "2021-03-18T14:47:17.214417Z",
     "start_time": "2021-03-18T14:47:17.202416Z"
    }
   },
   "outputs": [],
   "source": [
    "def find_table(text):\n",
    "    list_tab = []\n",
    "    for t in schema:\n",
    "        pos_schema = text.find(t)\n",
    "        #print(pos_schema)\n",
    "        if pos_schema > 0: \n",
    "            text_schema = text[pos_schema:]\n",
    "            pos_sp = text_schema.find(' ')\n",
    "            #print(pos_sp)\n",
    "            if pos_sp > 0:\n",
    "                tab = text_schema[:pos_sp]\n",
    "            else:\n",
    "                tab = text_schema\n",
    "            #get rid of ')' at the end of a line\n",
    "            if tab.find(')') > 0:\n",
    "                #print(tab)\n",
    "                tab = tab[:tab.find(')')]\n",
    "            if tab.find('(') > 0:\n",
    "                tab = tab[:tab.find('(')]\n",
    "                #eliminate sequence\n",
    "            if tab.find('NEXTVAL') < 0:\n",
    "                list_tab.append(tab)\n",
    "\n",
    "    if len(list_tab) > 0:\n",
    "        return list_tab\n",
    "    \n",
    "    #look for provided tables\n",
    "    \n",
    "    for t in tables:\n",
    "        if text.find(t) >= 0:\n",
    "            # blank space or new line is required \n",
    "            if text[text.find(t)+len(t):text.find(t)+len(t)+1] == ' ' or text[text.find(t)+len(t):text.find(t)+len(t)+1] == '':\n",
    "                list_tab.append(t)\n",
    "            #print(t)\n",
    "    if len(list_tab) >= 0:\n",
    "        return list_tab"
   ]
  },
  {
   "cell_type": "markdown",
   "metadata": {},
   "source": [
    "detect the beggining of a command "
   ]
  },
  {
   "cell_type": "code",
   "execution_count": null,
   "metadata": {
    "ExecuteTime": {
     "end_time": "2021-03-18T14:47:19.649970Z",
     "start_time": "2021-03-18T14:47:19.646104Z"
    }
   },
   "outputs": [],
   "source": [
    "sql_start = ['INSERT INTO', 'CREATE TABLE', 'MERGE ', 'UPDATE ', 'INTO']"
   ]
  },
  {
   "cell_type": "code",
   "execution_count": null,
   "metadata": {
    "ExecuteTime": {
     "end_time": "2021-03-18T14:47:20.604270Z",
     "start_time": "2021-03-18T14:47:20.600283Z"
    }
   },
   "outputs": [],
   "source": [
    "def find_beggining(text):\n",
    "    for t in sql_start:\n",
    "        pos_start = text.find(t)\n",
    "        if pos_start >= 0:\n",
    "            return 1\n",
    "    return 0"
   ]
  }
 ],
 "metadata": {
  "kernelspec": {
   "display_name": "Python 3 (ipykernel)",
   "language": "python",
   "name": "python3"
  },
  "language_info": {
   "codemirror_mode": {
    "name": "ipython",
    "version": 3
   },
   "file_extension": ".py",
   "mimetype": "text/x-python",
   "name": "python",
   "nbconvert_exporter": "python",
   "pygments_lexer": "ipython3",
   "version": "3.9.7"
  },
  "toc": {
   "base_numbering": 1,
   "nav_menu": {},
   "number_sections": true,
   "sideBar": true,
   "skip_h1_title": false,
   "title_cell": "Table of Contents",
   "title_sidebar": "Contents",
   "toc_cell": false,
   "toc_position": {},
   "toc_section_display": true,
   "toc_window_display": false
  }
 },
 "nbformat": 4,
 "nbformat_minor": 4
}
